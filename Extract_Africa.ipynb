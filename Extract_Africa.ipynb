{
 "cells": [
  {
   "cell_type": "markdown",
   "metadata": {},
   "source": [
    "# Extract Africa from csv"
   ]
  },
  {
   "cell_type": "code",
   "execution_count": null,
   "metadata": {},
   "outputs": [],
   "source": [
    "#Load data covid 19 world\n",
    "import pandas as pd\n",
    "covid_world = pd.read_csv(\"covid_19_data.csv\")\n",
    "covid_world"
   ]
  },
  {
   "cell_type": "code",
   "execution_count": null,
   "metadata": {},
   "outputs": [],
   "source": [
    "#rename country column\n",
    "covid_world = covid_world.rename(columns={'Country/Region': 'Country'})"
   ]
  },
  {
   "cell_type": "code",
   "execution_count": null,
   "metadata": {},
   "outputs": [],
   "source": [
    "#show all countries of data file\n",
    "countries = covid_world[\"Country\"].unique()\n",
    "print(countries)"
   ]
  },
  {
   "cell_type": "code",
   "execution_count": null,
   "metadata": {},
   "outputs": [],
   "source": [
    "#Extraction country by country\n",
    "covid_africa = covid_world[(covid_world[\"Country\"]==\"Benin\") | \n",
    "            (covid_world[\"Country\"]==\"Nigeria\") | \n",
    "            (covid_world[\"Country\"]==\"Ethiopia\") | \n",
    "            (covid_world[\"Country\"]==\"Egypt\") | \n",
    "            (covid_world[\"Country\"]==\"Republic of the Congo\") | \n",
    "            (covid_world[\"Country\"]==\"Tanzania\") | \n",
    "            (covid_world[\"Country\"]==\"South Africa\") | \n",
    "            (covid_world[\"Country\"]==\"Kenya\") | \n",
    "            (covid_world[\"Country\"]==\"Uganda\") | \n",
    "            (covid_world[\"Country\"]==\"Algeria\") | \n",
    "            (covid_world[\"Country\"]==\"Sudan\") | \n",
    "            (covid_world[\"Country\"]==\"Morocco\") | \n",
    "            (covid_world[\"Country\"]==\"Angola\") | \n",
    "            (covid_world[\"Country\"]==\"Mozambique\") | \n",
    "            (covid_world[\"Country\"]==\"Ghana\") | \n",
    "            (covid_world[\"Country\"]==\"Madagascar\") | \n",
    "            (covid_world[\"Country\"]==\"Cameroon\") | \n",
    "            (covid_world[\"Country\"]==\"Ivory Coast\") | \n",
    "            (covid_world[\"Country\"]==\"Niger\") | \n",
    "            (covid_world[\"Country\"]==\"Burkina Faso\") | \n",
    "            (covid_world[\"Country\"]==\"Mali\") | \n",
    "            (covid_world[\"Country\"]==\"Malawi\") | \n",
    "            (covid_world[\"Country\"]==\"Zambia\") | \n",
    "            (covid_world[\"Country\"]==\"Senegal\") | \n",
    "            (covid_world[\"Country\"]==\"Chad\") | \n",
    "            (covid_world[\"Country\"]==\"Somalia\") | \n",
    "            (covid_world[\"Country\"]==\"Zimbabwe\") | \n",
    "            (covid_world[\"Country\"]==\"Guinea\") | \n",
    "            (covid_world[\"Country\"]==\"Rwanda\") | \n",
    "            (covid_world[\"Country\"]==\"Burundi\") | \n",
    "            (covid_world[\"Country\"]==\"Tunisia\") | \n",
    "            (covid_world[\"Country\"]==\"South Sudan\") | \n",
    "            (covid_world[\"Country\"]==\"Togo\") | \n",
    "            (covid_world[\"Country\"]==\"Sierra Leone\") | \n",
    "            (covid_world[\"Country\"]==\"Libya\") | \n",
    "            (covid_world[\"Country\"]==\"Congo (Brazzaville)\") | \n",
    "            (covid_world[\"Country\"]==\"Congo (Kinshasa)\") | \n",
    "            (covid_world[\"Country\"]==\"Liberia\") | \n",
    "            (covid_world[\"Country\"]==\"Central African Republic\") | \n",
    "            (covid_world[\"Country\"]==\"Mauritania\") | \n",
    "            (covid_world[\"Country\"]==\"Eritrea\") | \n",
    "            (covid_world[\"Country\"]==\"Namibia\") | \n",
    "            (covid_world[\"Country\"]==\"Gambia\") | \n",
    "            (covid_world[\"Country\"]==\"Botswana\") | \n",
    "            (covid_world[\"Country\"]==\"Gabon\") | \n",
    "            (covid_world[\"Country\"]==\"Lesotho\") | \n",
    "            (covid_world[\"Country\"]==\"Guinea-Bissau\") | \n",
    "            (covid_world[\"Country\"]==\"Equatorial Guinea\") | \n",
    "            (covid_world[\"Country\"]==\"Mauritius\") | \n",
    "            (covid_world[\"Country\"]==\"Eswatini\") | \n",
    "            (covid_world[\"Country\"]==\"Djibouti\") | \n",
    "            (covid_world[\"Country\"]==\"Comoros\") | \n",
    "            (covid_world[\"Country\"]==\"Cape Verde\") | \n",
    "            (covid_world[\"Country\"]==\"Sao Tome and Principe\") | \n",
    "            (covid_world[\"Country\"]==\"Seychelles\") |\n",
    "            (covid_world[\"Country\"]==\"Western Sahara\")\n",
    "           ]"
   ]
  },
  {
   "cell_type": "code",
   "execution_count": null,
   "metadata": {},
   "outputs": [],
   "source": [
    "#show covid data in Africa\n",
    "covid_africa"
   ]
  },
  {
   "cell_type": "code",
   "execution_count": null,
   "metadata": {},
   "outputs": [],
   "source": [
    "#save csv\n",
    "covid_africa.to_csv(\"covid_africa.csv\")"
   ]
  },
  {
   "cell_type": "markdown",
   "metadata": {},
   "source": [
    "# Extract Africa from shp"
   ]
  },
  {
   "cell_type": "code",
   "execution_count": null,
   "metadata": {},
   "outputs": [],
   "source": [
    "#load world shp\n",
    "import geopandas as gpd\n",
    "world = gpd.read_file(\"99bfd9e7-bb42-4728-87b5-07f8c8ac631c2020328-1-1vef4ev.lu5nk.shp\")"
   ]
  },
  {
   "cell_type": "code",
   "execution_count": null,
   "metadata": {},
   "outputs": [],
   "source": [
    "#plot world\n",
    "world.plot()"
   ]
  },
  {
   "cell_type": "code",
   "execution_count": null,
   "metadata": {},
   "outputs": [],
   "source": [
    "#show world dataframe\n",
    "world"
   ]
  },
  {
   "cell_type": "code",
   "execution_count": null,
   "metadata": {},
   "outputs": [],
   "source": [
    "#rename column country\n",
    "world = world.rename(columns={'CNTRY_NAME': 'Country'})"
   ]
  },
  {
   "cell_type": "code",
   "execution_count": null,
   "metadata": {},
   "outputs": [],
   "source": [
    "world"
   ]
  },
  {
   "cell_type": "code",
   "execution_count": null,
   "metadata": {},
   "outputs": [],
   "source": [
    "#show all countries of data file\n",
    "countries_ = world[\"Country\"].unique()\n",
    "print(countries_)"
   ]
  },
  {
   "cell_type": "code",
   "execution_count": null,
   "metadata": {},
   "outputs": [],
   "source": [
    "#Extraction of shp country by country\n",
    "africa = world[(world[\"Country\"]==\"Benin\") | \n",
    "            (world[\"Country\"]==\"Nigeria\") | \n",
    "            (world[\"Country\"]==\"Ethiopia\") | \n",
    "            (world[\"Country\"]==\"Egypt\") | \n",
    "            (world[\"Country\"]==\"South Africa\") | \n",
    "            (world[\"Country\"]==\"Kenya\") | \n",
    "            (world[\"Country\"]==\"Uganda\") | \n",
    "            (world[\"Country\"]==\"Algeria\") | \n",
    "            (world[\"Country\"]==\"Sudan\") | \n",
    "            (world[\"Country\"]==\"Morocco\") | \n",
    "            (world[\"Country\"]==\"Angola\") | \n",
    "            (world[\"Country\"]==\"Mozambique\") | \n",
    "            (world[\"Country\"]==\"Ghana\") | \n",
    "            (world[\"Country\"]==\"Madagascar\") | \n",
    "            (world[\"Country\"]==\"Cameroon\") | \n",
    "            (world[\"Country\"]==\"Ivory Coast\") | \n",
    "            (world[\"Country\"]==\"Niger\") | \n",
    "            (world[\"Country\"]==\"Burkina Faso\") | \n",
    "            (world[\"Country\"]==\"Mali\") | \n",
    "            (world[\"Country\"]==\"Malawi\") | \n",
    "            (world[\"Country\"]==\"Zambia\") | \n",
    "            (world[\"Country\"]==\"Senegal\") | \n",
    "            (world[\"Country\"]==\"Chad\") | \n",
    "            (world[\"Country\"]==\"Somalia\") | \n",
    "            (world[\"Country\"]==\"Zimbabwe\") | \n",
    "            (world[\"Country\"]==\"Guinea\") | \n",
    "            (world[\"Country\"]==\"Rwanda\") | \n",
    "            (world[\"Country\"]==\"Burundi\") | \n",
    "            (world[\"Country\"]==\"Tunisia\") | \n",
    "            (world[\"Country\"]==\"South Sudan\") | \n",
    "            (world[\"Country\"]==\"Togo\") | \n",
    "            (world[\"Country\"]==\"Sierra Leone\") | \n",
    "            (world[\"Country\"]==\"Libya\") | \n",
    "            (world[\"Country\"]==\"Congo\") | \n",
    "            (world[\"Country\"]==\"Liberia\") | \n",
    "            (world[\"Country\"]==\"Central African Republic\") | \n",
    "            (world[\"Country\"]==\"Mauritania\") | \n",
    "            (world[\"Country\"]==\"Eritrea\") | \n",
    "            (world[\"Country\"]==\"Namibia\") | \n",
    "            (world[\"Country\"]==\"Gambia\") | \n",
    "            (world[\"Country\"]==\"Botswana\") | \n",
    "            (world[\"Country\"]==\"Gabon\") | \n",
    "            (world[\"Country\"]==\"Lesotho\") | \n",
    "            (world[\"Country\"]==\"Guinea-Bissau\") | \n",
    "            (world[\"Country\"]==\"Equatorial Guinea\") | \n",
    "            (world[\"Country\"]==\"Mauritius\") |  \n",
    "            (world[\"Country\"]==\"Djibouti\") | \n",
    "            (world[\"Country\"]==\"Comoros\") | \n",
    "            (world[\"Country\"]==\"Cape Verde\") | \n",
    "            (world[\"Country\"]==\"Sao Tome and Principe\") | \n",
    "            (world[\"Country\"]==\"Seychelles\") |\n",
    "            (world[\"Country\"]==\"Western Sahara\") |\n",
    "            (world[\"Country\"]==\"Zaire\") |\n",
    "            (world[\"Country\"]==\"Tanzania, United Republic of\") |\n",
    "            (world[\"Country\"]==\"Swaziland\")  \n",
    "           ]"
   ]
  },
  {
   "cell_type": "code",
   "execution_count": null,
   "metadata": {},
   "outputs": [],
   "source": [
    "#replace country names of shp to match covid file\n",
    "africa = africa.replace({'Country' : 'Zaire'}, \n",
    "                                'Republic of the Congo')\n",
    "africa = africa.replace({'Country' : 'Tanzania, United Republic of'}, \n",
    "                                'Tanzania')\n",
    "africa = africa.replace({'Country' : 'Swaziland'}, \n",
    "                                'Eswatini')"
   ]
  },
  {
   "cell_type": "code",
   "execution_count": null,
   "metadata": {},
   "outputs": [],
   "source": [
    "#verification if name has been replaced\n",
    "africa[(africa[\"Country\"]==\"Republic of the Congo\")]\n",
    "africa[(africa[\"Country\"]==\"Tanzania\")]\n",
    "africa[(africa[\"Country\"]==\"Eswatini\")]"
   ]
  },
  {
   "cell_type": "code",
   "execution_count": null,
   "metadata": {},
   "outputs": [],
   "source": [
    "#save shp\n",
    "africa.to_file(\"africa.shp\")"
   ]
  }
 ],
 "metadata": {
  "kernelspec": {
   "display_name": "Python 3",
   "language": "python",
   "name": "python3"
  },
  "language_info": {
   "codemirror_mode": {
    "name": "ipython",
    "version": 3
   },
   "file_extension": ".py",
   "mimetype": "text/x-python",
   "name": "python",
   "nbconvert_exporter": "python",
   "pygments_lexer": "ipython3",
   "version": "3.9.2"
  }
 },
 "nbformat": 4,
 "nbformat_minor": 4
}
